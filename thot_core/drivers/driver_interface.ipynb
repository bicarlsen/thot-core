{
 "cells": [
  {
   "cell_type": "markdown",
   "metadata": {},
   "source": [
    "# Driver interface"
   ]
  },
  {
   "cell_type": "code",
   "execution_count": 3,
   "metadata": {},
   "outputs": [],
   "source": [
    "from abc import ABC, abstractmethod"
   ]
  },
  {
   "cell_type": "code",
   "execution_count": 4,
   "metadata": {},
   "outputs": [],
   "source": [
    "class DriverInterface( ABC ):\n",
    "    \"\"\"\n",
    "    Interface for drivers.\n",
    "    \"\"\"\n",
    "    \n",
    "    @abstractmethod\n",
    "    def output_asset( self, asset ):\n",
    "        \"\"\"\n",
    "        Modifies asset coming from the database, going to the user.\n",
    "        \n",
    "        :param asset: Assets to modify.\n",
    "        :returns: Modified asset.\n",
    "        \"\"\"\n",
    "        pass\n",
    "    \n",
    "    \n",
    "    @abstractmethod\n",
    "    def output_assets( self, assets ):\n",
    "        \"\"\"\n",
    "        Modifies Assets coming from the database, going to the user.\n",
    "        \n",
    "        :param assets: List of Assets to modify.\n",
    "        :returns: List of modified Assets.\n",
    "        \"\"\"\n",
    "        pass\n",
    "    \n",
    "    \n",
    "    @abstractmethod\n",
    "    def input_asset( self, asset ):\n",
    "        \"\"\"\n",
    "        Modifies an asset coming from the user, going to the database.\n",
    "        \n",
    "        :param asset: Asset to be modified.\n",
    "        :returns: The modified asset.\n",
    "        \"\"\"\n",
    "        pass\n",
    "    \n",
    "    \n",
    "    @abstractmethod\n",
    "    def get_script( self, script ):\n",
    "        \"\"\"\n",
    "        Gets the specified script if needed, returning the local path to it.\n",
    "        \n",
    "        :param script: Path to the script.\n",
    "        :returns: Local path.\n",
    "        \"\"\"\n",
    "        pass"
   ]
  },
  {
   "cell_type": "code",
   "execution_count": null,
   "metadata": {},
   "outputs": [],
   "source": []
  }
 ],
 "metadata": {
  "kernelspec": {
   "display_name": "Python 3",
   "language": "python",
   "name": "python3"
  },
  "language_info": {
   "codemirror_mode": {
    "name": "ipython",
    "version": 3
   },
   "file_extension": ".py",
   "mimetype": "text/x-python",
   "name": "python",
   "nbconvert_exporter": "python",
   "pygments_lexer": "ipython3",
   "version": "3.6.5"
  }
 },
 "nbformat": 4,
 "nbformat_minor": 2
}
