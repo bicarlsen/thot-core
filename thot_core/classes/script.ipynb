{
 "cells": [
  {
   "cell_type": "markdown",
   "metadata": {},
   "source": [
    "# Script"
   ]
  },
  {
   "cell_type": "code",
   "execution_count": null,
   "metadata": {},
   "outputs": [],
   "source": [
    "from .base_object import BaseObject\n",
    "from .resource import Resource"
   ]
  },
  {
   "cell_type": "code",
   "execution_count": null,
   "metadata": {},
   "outputs": [],
   "source": [
    "class Script( Resource ):\n",
    "    \"\"\"\n",
    "    A Script.\n",
    "    \"\"\"\n",
    "    \n",
    "    def __init__( self, **kwargs ):\n",
    "        \"\"\"\n",
    "        Creates a new Asset.\n",
    "        \n",
    "        :param **kwargs: Initial property values.\n",
    "        \"\"\"\n",
    "        defaults = {\n",
    "            'file':         None,\n",
    "            'language':     None,\n",
    "            'description':  None,\n",
    "            'version':      0\n",
    "        }\n",
    "        \n",
    "        super().__init__( kwargs, defaults )"
   ]
  },
  {
   "cell_type": "code",
   "execution_count": null,
   "metadata": {},
   "outputs": [],
   "source": [
    "class ScriptAssociation( BaseObject ):\n",
    "    \"\"\"\n",
    "    A ScriptAssociation\n",
    "    \"\"\"\n",
    "    \n",
    "    def __init__( self, **kwargs ):\n",
    "        \"\"\"\n",
    "        :param **kwargs: Initial property values.\n",
    "        \"\"\"\n",
    "        defaults = {\n",
    "            'script': None,\n",
    "            'priority': 0,\n",
    "            'autorun':  True\n",
    "        }\n",
    "        \n",
    "        super().__init__( kwargs, defaults )\n",
    "        \n",
    "        \n",
    "    def __lt__( self, other ):\n",
    "        \"\"\"\n",
    "        Defines comparison based on priority.\n",
    "        \n",
    "        :param other: ScriptAssociation for comparison.\n",
    "        :returns: True if priority is less than other, False otherwise.\n",
    "        \"\"\"\n",
    "        return ( self.priority < other.priority )\n",
    "        "
   ]
  }
 ],
 "metadata": {
  "kernelspec": {
   "display_name": "Python 3",
   "language": "python",
   "name": "python3"
  },
  "language_info": {
   "codemirror_mode": {
    "name": "ipython",
    "version": 3
   },
   "file_extension": ".py",
   "mimetype": "text/x-python",
   "name": "python",
   "nbconvert_exporter": "python",
   "pygments_lexer": "ipython3",
   "version": "3.7.0"
  }
 },
 "nbformat": 4,
 "nbformat_minor": 2
}
