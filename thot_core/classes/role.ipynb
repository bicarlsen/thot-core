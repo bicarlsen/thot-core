{
 "cells": [
  {
   "cell_type": "markdown",
   "metadata": {},
   "source": [
    "# Role"
   ]
  },
  {
   "cell_type": "code",
   "execution_count": 1,
   "metadata": {},
   "outputs": [],
   "source": [
    "from .base_object import BaseObject"
   ]
  },
  {
   "cell_type": "code",
   "execution_count": null,
   "metadata": {},
   "outputs": [],
   "source": [
    "class Role( BaseObject ):\n",
    "    \"\"\"\n",
    "    Represents a role.\n",
    "    \"\"\"\n",
    "    \n",
    "    def __init__( self, **kwargs ):\n",
    "        \"\"\"\n",
    "        :params **kwargs: Initial parameters\n",
    "        \"\"\"\n",
    "        defaults = {\n",
    "            '_id':    None, # remove _id field\n",
    "            'user': None,\n",
    "            'role': None\n",
    "        }\n",
    "        \n",
    "        super().__init__( kwargs, defaults )"
   ]
  }
 ],
 "metadata": {
  "kernelspec": {
   "display_name": "Python 3",
   "language": "python",
   "name": "python3"
  },
  "language_info": {
   "codemirror_mode": {
    "name": "ipython",
    "version": 3
   },
   "file_extension": ".py",
   "mimetype": "text/x-python",
   "name": "python",
   "nbconvert_exporter": "python",
   "pygments_lexer": "ipython3",
   "version": "3.6.5"
  }
 },
 "nbformat": 4,
 "nbformat_minor": 2
}
