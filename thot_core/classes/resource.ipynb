{
 "cells": [
  {
   "cell_type": "code",
   "execution_count": null,
   "metadata": {},
   "outputs": [],
   "source": [
    "import random\n",
    "from datetime import datetime\n",
    "from json import JSONEncoder\n",
    "\n",
    "from .base_object import BaseObject\n",
    "from .role import Role\n",
    "from .note import Note\n",
    "from .metadata import Metadata"
   ]
  },
  {
   "cell_type": "code",
   "execution_count": null,
   "metadata": {},
   "outputs": [],
   "source": [
    "class Resource( BaseObject ):\n",
    "    \n",
    "    def __init__( self, properties, defaults ):\n",
    "        \"\"\"\n",
    "        Creates a new Resource.\n",
    "        \n",
    "        :param properties: Initial property values. \n",
    "        :param defaults: Default property values.\n",
    "        \"\"\"       \n",
    "        resource_defaults = {\n",
    "            '_id':          None,\n",
    "            'created':      datetime.now(),\n",
    "            'type':         None,\n",
    "            'name':         None,\n",
    "            'description':  None,\n",
    "            'roles':        [],\n",
    "            'tags':         [],\n",
    "            'notes':        [],\n",
    "            'metadata':     {}\n",
    "        }\n",
    "        \n",
    "        # merge defaults\n",
    "        defaults = { **resource_defaults, **defaults }\n",
    "        \n",
    "        super().__init__( properties, defaults )\n",
    "        \n",
    "        \n",
    "    def __json__( self ):\n",
    "        \"\"\"\n",
    "        Returns a dictionary to write to JSON.\n",
    "        \"\"\"        \n",
    "        obj = dict( self )\n",
    "        \n",
    "        if isinstance( obj[ 'created' ], datetime ):\n",
    "            # convert datetime to string\n",
    "            time_format = '%Y-%m-%dT%H:%M:%S%Z' # yyyy-mm-ddThh:mm:ss+/-<UTC offset>\n",
    "            obj[ 'created' ] = obj[ 'created' ].strftime( time_format )\n",
    "        \n",
    "        return obj"
   ]
  },
  {
   "cell_type": "code",
   "execution_count": null,
   "metadata": {},
   "outputs": [],
   "source": [
    "class ResourceJSONEncoder( JSONEncoder ):\n",
    "    \"\"\"\n",
    "    JSON encoder for Base Objects.\n",
    "    \"\"\"\n",
    "    \n",
    "    def default( self, obj ):\n",
    "        if isinstance( obj, Resource ):\n",
    "            return obj.__json__()\n",
    "        \n",
    "        else:\n",
    "            super().default()"
   ]
  }
 ],
 "metadata": {
  "kernelspec": {
   "display_name": "Python 3",
   "language": "python",
   "name": "python3"
  },
  "language_info": {
   "codemirror_mode": {
    "name": "ipython",
    "version": 3
   },
   "file_extension": ".py",
   "mimetype": "text/x-python",
   "name": "python",
   "nbconvert_exporter": "python",
   "pygments_lexer": "ipython3",
   "version": "3.6.5"
  }
 },
 "nbformat": 4,
 "nbformat_minor": 2
}
