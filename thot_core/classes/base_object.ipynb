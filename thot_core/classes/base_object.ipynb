{
 "cells": [
  {
   "cell_type": "markdown",
   "metadata": {},
   "source": [
    "# Base Object"
   ]
  },
  {
   "cell_type": "code",
   "execution_count": 6,
   "metadata": {},
   "outputs": [],
   "source": [
    "import json\n",
    "from collections.abc import Mapping"
   ]
  },
  {
   "cell_type": "code",
   "execution_count": 7,
   "metadata": {},
   "outputs": [],
   "source": [
    "class BaseObject( Mapping ):\n",
    "    \"\"\"\n",
    "    Base object.\n",
    "    \"\"\"\n",
    "    \n",
    "    def __init__( self, properties, defaults ):\n",
    "        \"\"\"\n",
    "        Creates a new BaseObject.\n",
    "        \n",
    "        :param properties: Initial property values. \n",
    "        :param defaults: Default property values.\n",
    "        \"\"\"\n",
    "        self._properties = defaults.keys() # save white listed names\n",
    "        \n",
    "        properties = { **defaults, **properties } # set defaults\n",
    "        for prop in self._properties:\n",
    "            val = properties[ prop ]\n",
    "            \n",
    "            if ( prop == 'metadata' ) and isinstance( val, list ):\n",
    "                md = {}\n",
    "                \n",
    "                # convert metadata list to dictionary\n",
    "                for datum in val:\n",
    "                    md_val = datum[ 'value' ]\n",
    "                    \n",
    "                    # cast value to correct type, comes as string\n",
    "                    if datum[ 'type' ] == 'number':\n",
    "                        try:\n",
    "                            # check if int\n",
    "                            md_val = int( md_val )\n",
    "\n",
    "                        except ValueError as err:\n",
    "                            # try as float\n",
    "                            md_val = float( md_val )\n",
    "                        \n",
    "                    elif datum[ 'type' ] == 'json':\n",
    "                        md_val = json.loads( md_val )\n",
    "        \n",
    "                    md[ datum[ 'name' ] ] = md_val\n",
    "                \n",
    "                val = md\n",
    "                \n",
    "            setattr( self, prop, val )\n",
    "        \n",
    "    \n",
    "    @property\n",
    "    def properties( self ):\n",
    "        \"\"\"\n",
    "        :returns: List of valid properties.\n",
    "        \"\"\"\n",
    "        return self._properties\n",
    "    \n",
    "    \n",
    "    def __getitem__( self, item ):\n",
    "        if item == '_properties':\n",
    "            raise KeyError( item )\n",
    "        \n",
    "        return getattr( self, item )\n",
    "        \n",
    "    \n",
    "    def __len__( self ):\n",
    "        return len( self.__dict__ )\n",
    "    \n",
    "\n",
    "    def __iter__( self ):\n",
    "        d = self.__dict__.copy()\n",
    "        del d[ '_properties' ]\n",
    "        \n",
    "        yield from d\n",
    "            \n",
    "    \n",
    "    def __json__( self ):\n",
    "        \"\"\"\n",
    "        :returns: Dictionary to write to JSON.\n",
    "        \"\"\"\n",
    "        return dict( self )"
   ]
  },
  {
   "cell_type": "code",
   "execution_count": 8,
   "metadata": {},
   "outputs": [],
   "source": [
    "class BaseObjectJSONEncoder( json.JSONEncoder ):\n",
    "    \"\"\"\n",
    "    JSON encoder for Base Objects.\n",
    "    \"\"\"\n",
    "    \n",
    "    def default( self, obj ):\n",
    "        if isinstance( obj, BaseObject ):\n",
    "            return obj.__json__()\n",
    "        \n",
    "        else:\n",
    "            super().default()"
   ]
  },
  {
   "cell_type": "markdown",
   "metadata": {},
   "source": [
    "# Work"
   ]
  }
 ],
 "metadata": {
  "kernelspec": {
   "display_name": "Python 3",
   "language": "python",
   "name": "python3"
  },
  "language_info": {
   "codemirror_mode": {
    "name": "ipython",
    "version": 3
   },
   "file_extension": ".py",
   "mimetype": "text/x-python",
   "name": "python",
   "nbconvert_exporter": "python",
   "pygments_lexer": "ipython3",
   "version": "3.6.5"
  }
 },
 "nbformat": 4,
 "nbformat_minor": 2
}
