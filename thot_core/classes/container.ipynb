{
 "cells": [
  {
   "cell_type": "markdown",
   "metadata": {},
   "source": [
    "# Container"
   ]
  },
  {
   "cell_type": "code",
   "execution_count": null,
   "metadata": {},
   "outputs": [],
   "source": [
    "from .resource import Resource\n",
    "from .script import ScriptAssociation\n",
    "from .role import Role"
   ]
  },
  {
   "cell_type": "code",
   "execution_count": null,
   "metadata": {},
   "outputs": [],
   "source": [
    "class Container( Resource ):\n",
    "    \"\"\"\n",
    "    A Container.\n",
    "    \"\"\"\n",
    "    \n",
    "    def __init__( self, **kwargs ):\n",
    "        \"\"\"\n",
    "        Creates a new Container.\n",
    "        \n",
    "        :param **kwargs: Initial property values.\n",
    "        \"\"\"\n",
    "        defaults = {\n",
    "            'parent':       None,\n",
    "            'children':     [],\n",
    "            'assets':       [],\n",
    "            'scripts':      []\n",
    "        }\n",
    "        \n",
    "        super().__init__( kwargs, defaults )\n",
    "        \n",
    "        # roles\n",
    "        for index, role in enumerate( self.roles ):\n",
    "            self.roles[ index ] = Role( **role )\n",
    "    \n",
    "        # scripts\n",
    "        for index, script in enumerate( self.scripts ):\n",
    "            self.scripts[ index ] = ScriptAssociation( **script )\n",
    "    \n",
    "    \n",
    "    \n",
    "#     def find_descendants( self, search = {}, level = None ):\n",
    "#         \"\"\"\n",
    "#         Gets descendents.\n",
    "        \n",
    "#         :param match: Dictionary filter or None for no filter. [Default: None]\n",
    "#         :param level:\n",
    "#         :returns: List of Containers.\n",
    "#         \"\"\"\n",
    "#         pass\n",
    "    \n",
    "    \n",
    "#     def find_assets( self, search = {} ):\n",
    "#         \"\"\"\n",
    "        \n",
    "#         \"\"\"\n",
    "#         pass\n",
    "    \n",
    "    \n",
    "#     def find_scritps( self, search = {} ):\n",
    "#         \"\"\"\n",
    "        \n",
    "#         \"\"\"\n",
    "#         pass"
   ]
  }
 ],
 "metadata": {
  "kernelspec": {
   "display_name": "Python 3",
   "language": "python",
   "name": "python3"
  },
  "language_info": {
   "codemirror_mode": {
    "name": "ipython",
    "version": 3
   },
   "file_extension": ".py",
   "mimetype": "text/x-python",
   "name": "python",
   "nbconvert_exporter": "python",
   "pygments_lexer": "ipython3",
   "version": "3.6.5"
  }
 },
 "nbformat": 4,
 "nbformat_minor": 2
}
