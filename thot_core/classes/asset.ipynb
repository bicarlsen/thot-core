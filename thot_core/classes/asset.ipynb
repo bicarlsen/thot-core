{
 "cells": [
  {
   "cell_type": "markdown",
   "metadata": {},
   "source": [
    "# Asset"
   ]
  },
  {
   "cell_type": "code",
   "execution_count": 28,
   "metadata": {},
   "outputs": [],
   "source": [
    "from .resource import Resource"
   ]
  },
  {
   "cell_type": "code",
   "execution_count": 25,
   "metadata": {},
   "outputs": [],
   "source": [
    "class Asset( Resource ):\n",
    "    \"\"\"\n",
    "    An Asset.\n",
    "    \"\"\"\n",
    "    \n",
    "    def __init__( self, **kwargs ):\n",
    "        \"\"\"\n",
    "        Creates a new Asset.\n",
    "        \n",
    "        :param **kwargs: Initial property values.\n",
    "        \"\"\"\n",
    "        defaults = {\n",
    "            'file':         None,\n",
    "            'parent':       None,\n",
    "            'creator':      None,\n",
    "            'creator_type': None,\n",
    "        }\n",
    "        \n",
    "        super().__init__( kwargs, defaults )"
   ]
  }
 ],
 "metadata": {
  "kernelspec": {
   "display_name": "Python 3",
   "language": "python",
   "name": "python3"
  },
  "language_info": {
   "codemirror_mode": {
    "name": "ipython",
    "version": 3
   },
   "file_extension": ".py",
   "mimetype": "text/x-python",
   "name": "python",
   "nbconvert_exporter": "python",
   "pygments_lexer": "ipython3",
   "version": "3.6.5"
  }
 },
 "nbformat": 4,
 "nbformat_minor": 2
}
